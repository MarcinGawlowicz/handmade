{
 "cells": [
  {
   "cell_type": "markdown",
   "id": "9a3ccb7a",
   "metadata": {},
   "source": [
    "# Django ORM - Instrukcje DML w relacjach"
   ]
  },
  {
   "cell_type": "markdown",
   "id": "aed61773",
   "metadata": {},
   "source": [
    "W bazach relacyjnych tabele mogą być powiązane ze sobą relacjami. W zależności od natury tego powiązania wyróżniamy kilka typów relacji. W Django ORM możemy wyróżnić trzy podstawowe typy relacji: jeden-do-jednego, jeden-do-wielu i wiele-do-wielu. Każda z tych relacji posiada w Django ORM swój odpowiednik w postaci pola modelu. I tak:\n",
    "* **OneToOneField** to pole odpowiadające relacji jeden do jednego\n",
    "* **ForeignKey** to pole odpowiadające relacji jeden do wielu\n",
    "* **ManyToManyField** to pole odpowiadające relacji wiele do wielu\n",
    "\n",
    "Omówmy je po kolei."
   ]
  },
  {
   "cell_type": "markdown",
   "id": "0e19c62b",
   "metadata": {},
   "source": [
    "## OneToOneField"
   ]
  },
  {
   "cell_type": "markdown",
   "id": "0cd54b30",
   "metadata": {},
   "source": [
    "Relacja jeden do jednego występuje w przypadku kiedy rekord jednej tabeli może być powiązany z jednym i tylko jednym wpisem drugiej tabeli. Przykładem takiej relacji może być tabela stolica oraz tabela państwo. Warszawa jest stolicą tylko jednego państwa - Polski, Polska ma przypisaną tylko jedną stolicę - Warszawę.\n",
    "\"Mówimy Warszawa myślimy Polska, mówimy Polska myślimy Warszawa\". Relacja jest symetryczna dlatego nie ma znaczenia, w której z tabelek (stolica, czy państwo) umieścimy kolumnę dla tej relacji."
   ]
  },
  {
   "cell_type": "markdown",
   "id": "7afe0792",
   "metadata": {},
   "source": [
    "**Definicje modeli**\n",
    "\n",
    "W modelach mamy dwie klasy: Country i Capitol. Relacje OneToOneField umieściliśmy po stronie modelu Country. Atrybut przechowujący relację nazwaliśmy capitol.\n",
    "\n",
    "<code>class Country(models.Model):\n",
    "    name = models.CharField(max_length=64)\n",
    "    capitol = models.OneToOneField('Capitol', on_delete=models.CASCADE)\n",
    "</code>\n",
    "\n",
    "<code>class Capitol(models.Model):\n",
    "    name = models.CharField(max_length=64)\n",
    "</code>"
   ]
  },
  {
   "cell_type": "markdown",
   "id": "d35b5423",
   "metadata": {},
   "source": [
    "### C z CRUD"
   ]
  },
  {
   "cell_type": "code",
   "execution_count": 3,
   "id": "4617eb31",
   "metadata": {
    "ExecuteTime": {
     "end_time": "2023-12-11T18:52:56.206476900Z",
     "start_time": "2023-12-11T18:52:56.082439100Z"
    }
   },
   "outputs": [],
   "source": [
    "import os\n",
    "import django\n",
    "os.environ.setdefault('DJANGO_SETTINGS_MODULE', 'intro.settings')\n",
    "os.environ[\"DJANGO_ALLOW_ASYNC_UNSAFE\"] = \"true\"\n",
    "django.setup()"
   ]
  },
  {
   "cell_type": "code",
   "execution_count": 2,
   "id": "6ae52664",
   "metadata": {
    "ExecuteTime": {
     "end_time": "2023-12-11T18:39:36.966983200Z",
     "start_time": "2023-12-11T18:39:36.964151600Z"
    }
   },
   "outputs": [],
   "source": [
    "from relation_app.models import Country, Capital"
   ]
  },
  {
   "cell_type": "code",
   "execution_count": 3,
   "id": "a245b89f",
   "metadata": {
    "ExecuteTime": {
     "end_time": "2023-12-11T18:39:40.394150100Z",
     "start_time": "2023-12-11T18:39:40.354076500Z"
    }
   },
   "outputs": [],
   "source": [
    "# 1. Tworzymy wpis w tabeli Capital\n",
    "warsaw = Capital.objects.create(name=\"Warsaw\")"
   ]
  },
  {
   "cell_type": "code",
   "execution_count": 6,
   "id": "ca41b762",
   "metadata": {
    "ExecuteTime": {
     "end_time": "2023-12-11T18:41:00.709171Z",
     "start_time": "2023-12-11T18:41:00.619399400Z"
    }
   },
   "outputs": [
    {
     "ename": "IntegrityError",
     "evalue": "NOT NULL constraint failed: relation_app_country.capital_id",
     "output_type": "error",
     "traceback": [
      "\u001B[1;31m---------------------------------------------------------------------------\u001B[0m",
      "\u001B[1;31mIntegrityError\u001B[0m                            Traceback (most recent call last)",
      "File \u001B[1;32m~\\PycharmProjects\\backend_01\\venv\\lib\\site-packages\\django\\db\\backends\\utils.py:89\u001B[0m, in \u001B[0;36mCursorWrapper._execute\u001B[1;34m(self, sql, params, *ignored_wrapper_args)\u001B[0m\n\u001B[0;32m     88\u001B[0m \u001B[38;5;28;01melse\u001B[39;00m:\n\u001B[1;32m---> 89\u001B[0m     \u001B[38;5;28;01mreturn\u001B[39;00m \u001B[38;5;28;43mself\u001B[39;49m\u001B[38;5;241;43m.\u001B[39;49m\u001B[43mcursor\u001B[49m\u001B[38;5;241;43m.\u001B[39;49m\u001B[43mexecute\u001B[49m\u001B[43m(\u001B[49m\u001B[43msql\u001B[49m\u001B[43m,\u001B[49m\u001B[43m \u001B[49m\u001B[43mparams\u001B[49m\u001B[43m)\u001B[49m\n",
      "File \u001B[1;32m~\\PycharmProjects\\backend_01\\venv\\lib\\site-packages\\django\\db\\backends\\sqlite3\\base.py:328\u001B[0m, in \u001B[0;36mSQLiteCursorWrapper.execute\u001B[1;34m(self, query, params)\u001B[0m\n\u001B[0;32m    327\u001B[0m query \u001B[38;5;241m=\u001B[39m \u001B[38;5;28mself\u001B[39m\u001B[38;5;241m.\u001B[39mconvert_query(query, param_names\u001B[38;5;241m=\u001B[39mparam_names)\n\u001B[1;32m--> 328\u001B[0m \u001B[38;5;28;01mreturn\u001B[39;00m \u001B[38;5;28;43msuper\u001B[39;49m\u001B[43m(\u001B[49m\u001B[43m)\u001B[49m\u001B[38;5;241;43m.\u001B[39;49m\u001B[43mexecute\u001B[49m\u001B[43m(\u001B[49m\u001B[43mquery\u001B[49m\u001B[43m,\u001B[49m\u001B[43m \u001B[49m\u001B[43mparams\u001B[49m\u001B[43m)\u001B[49m\n",
      "\u001B[1;31mIntegrityError\u001B[0m: NOT NULL constraint failed: relation_app_country.capital_id",
      "\nThe above exception was the direct cause of the following exception:\n",
      "\u001B[1;31mIntegrityError\u001B[0m                            Traceback (most recent call last)",
      "Cell \u001B[1;32mIn[6], line 2\u001B[0m\n\u001B[0;32m      1\u001B[0m \u001B[38;5;66;03m# 2. Tworzymy wpis tabeli Country\u001B[39;00m\n\u001B[1;32m----> 2\u001B[0m poland \u001B[38;5;241m=\u001B[39m \u001B[43mCountry\u001B[49m\u001B[38;5;241;43m.\u001B[39;49m\u001B[43mobjects\u001B[49m\u001B[38;5;241;43m.\u001B[39;49m\u001B[43mcreate\u001B[49m\u001B[43m(\u001B[49m\u001B[43mname\u001B[49m\u001B[38;5;241;43m=\u001B[39;49m\u001B[38;5;124;43m\"\u001B[39;49m\u001B[38;5;124;43mPoland\u001B[39;49m\u001B[38;5;124;43m\"\u001B[39;49m\u001B[43m)\u001B[49m\n",
      "File \u001B[1;32m~\\PycharmProjects\\backend_01\\venv\\lib\\site-packages\\django\\db\\models\\manager.py:87\u001B[0m, in \u001B[0;36mBaseManager._get_queryset_methods.<locals>.create_method.<locals>.manager_method\u001B[1;34m(self, *args, **kwargs)\u001B[0m\n\u001B[0;32m     85\u001B[0m \u001B[38;5;129m@wraps\u001B[39m(method)\n\u001B[0;32m     86\u001B[0m \u001B[38;5;28;01mdef\u001B[39;00m \u001B[38;5;21mmanager_method\u001B[39m(\u001B[38;5;28mself\u001B[39m, \u001B[38;5;241m*\u001B[39margs, \u001B[38;5;241m*\u001B[39m\u001B[38;5;241m*\u001B[39mkwargs):\n\u001B[1;32m---> 87\u001B[0m     \u001B[38;5;28;01mreturn\u001B[39;00m \u001B[38;5;28mgetattr\u001B[39m(\u001B[38;5;28mself\u001B[39m\u001B[38;5;241m.\u001B[39mget_queryset(), name)(\u001B[38;5;241m*\u001B[39margs, \u001B[38;5;241m*\u001B[39m\u001B[38;5;241m*\u001B[39mkwargs)\n",
      "File \u001B[1;32m~\\PycharmProjects\\backend_01\\venv\\lib\\site-packages\\django\\db\\models\\query.py:658\u001B[0m, in \u001B[0;36mQuerySet.create\u001B[1;34m(self, **kwargs)\u001B[0m\n\u001B[0;32m    656\u001B[0m obj \u001B[38;5;241m=\u001B[39m \u001B[38;5;28mself\u001B[39m\u001B[38;5;241m.\u001B[39mmodel(\u001B[38;5;241m*\u001B[39m\u001B[38;5;241m*\u001B[39mkwargs)\n\u001B[0;32m    657\u001B[0m \u001B[38;5;28mself\u001B[39m\u001B[38;5;241m.\u001B[39m_for_write \u001B[38;5;241m=\u001B[39m \u001B[38;5;28;01mTrue\u001B[39;00m\n\u001B[1;32m--> 658\u001B[0m \u001B[43mobj\u001B[49m\u001B[38;5;241;43m.\u001B[39;49m\u001B[43msave\u001B[49m\u001B[43m(\u001B[49m\u001B[43mforce_insert\u001B[49m\u001B[38;5;241;43m=\u001B[39;49m\u001B[38;5;28;43;01mTrue\u001B[39;49;00m\u001B[43m,\u001B[49m\u001B[43m \u001B[49m\u001B[43musing\u001B[49m\u001B[38;5;241;43m=\u001B[39;49m\u001B[38;5;28;43mself\u001B[39;49m\u001B[38;5;241;43m.\u001B[39;49m\u001B[43mdb\u001B[49m\u001B[43m)\u001B[49m\n\u001B[0;32m    659\u001B[0m \u001B[38;5;28;01mreturn\u001B[39;00m obj\n",
      "File \u001B[1;32m~\\PycharmProjects\\backend_01\\venv\\lib\\site-packages\\django\\db\\models\\base.py:814\u001B[0m, in \u001B[0;36mModel.save\u001B[1;34m(self, force_insert, force_update, using, update_fields)\u001B[0m\n\u001B[0;32m    811\u001B[0m     \u001B[38;5;28;01mif\u001B[39;00m loaded_fields:\n\u001B[0;32m    812\u001B[0m         update_fields \u001B[38;5;241m=\u001B[39m \u001B[38;5;28mfrozenset\u001B[39m(loaded_fields)\n\u001B[1;32m--> 814\u001B[0m \u001B[38;5;28;43mself\u001B[39;49m\u001B[38;5;241;43m.\u001B[39;49m\u001B[43msave_base\u001B[49m\u001B[43m(\u001B[49m\n\u001B[0;32m    815\u001B[0m \u001B[43m    \u001B[49m\u001B[43musing\u001B[49m\u001B[38;5;241;43m=\u001B[39;49m\u001B[43musing\u001B[49m\u001B[43m,\u001B[49m\n\u001B[0;32m    816\u001B[0m \u001B[43m    \u001B[49m\u001B[43mforce_insert\u001B[49m\u001B[38;5;241;43m=\u001B[39;49m\u001B[43mforce_insert\u001B[49m\u001B[43m,\u001B[49m\n\u001B[0;32m    817\u001B[0m \u001B[43m    \u001B[49m\u001B[43mforce_update\u001B[49m\u001B[38;5;241;43m=\u001B[39;49m\u001B[43mforce_update\u001B[49m\u001B[43m,\u001B[49m\n\u001B[0;32m    818\u001B[0m \u001B[43m    \u001B[49m\u001B[43mupdate_fields\u001B[49m\u001B[38;5;241;43m=\u001B[39;49m\u001B[43mupdate_fields\u001B[49m\u001B[43m,\u001B[49m\n\u001B[0;32m    819\u001B[0m \u001B[43m\u001B[49m\u001B[43m)\u001B[49m\n",
      "File \u001B[1;32m~\\PycharmProjects\\backend_01\\venv\\lib\\site-packages\\django\\db\\models\\base.py:877\u001B[0m, in \u001B[0;36mModel.save_base\u001B[1;34m(self, raw, force_insert, force_update, using, update_fields)\u001B[0m\n\u001B[0;32m    875\u001B[0m     \u001B[38;5;28;01mif\u001B[39;00m \u001B[38;5;129;01mnot\u001B[39;00m raw:\n\u001B[0;32m    876\u001B[0m         parent_inserted \u001B[38;5;241m=\u001B[39m \u001B[38;5;28mself\u001B[39m\u001B[38;5;241m.\u001B[39m_save_parents(\u001B[38;5;28mcls\u001B[39m, using, update_fields)\n\u001B[1;32m--> 877\u001B[0m     updated \u001B[38;5;241m=\u001B[39m \u001B[38;5;28;43mself\u001B[39;49m\u001B[38;5;241;43m.\u001B[39;49m\u001B[43m_save_table\u001B[49m\u001B[43m(\u001B[49m\n\u001B[0;32m    878\u001B[0m \u001B[43m        \u001B[49m\u001B[43mraw\u001B[49m\u001B[43m,\u001B[49m\n\u001B[0;32m    879\u001B[0m \u001B[43m        \u001B[49m\u001B[38;5;28;43mcls\u001B[39;49m\u001B[43m,\u001B[49m\n\u001B[0;32m    880\u001B[0m \u001B[43m        \u001B[49m\u001B[43mforce_insert\u001B[49m\u001B[43m \u001B[49m\u001B[38;5;129;43;01mor\u001B[39;49;00m\u001B[43m \u001B[49m\u001B[43mparent_inserted\u001B[49m\u001B[43m,\u001B[49m\n\u001B[0;32m    881\u001B[0m \u001B[43m        \u001B[49m\u001B[43mforce_update\u001B[49m\u001B[43m,\u001B[49m\n\u001B[0;32m    882\u001B[0m \u001B[43m        \u001B[49m\u001B[43musing\u001B[49m\u001B[43m,\u001B[49m\n\u001B[0;32m    883\u001B[0m \u001B[43m        \u001B[49m\u001B[43mupdate_fields\u001B[49m\u001B[43m,\u001B[49m\n\u001B[0;32m    884\u001B[0m \u001B[43m    \u001B[49m\u001B[43m)\u001B[49m\n\u001B[0;32m    885\u001B[0m \u001B[38;5;66;03m# Store the database on which the object was saved\u001B[39;00m\n\u001B[0;32m    886\u001B[0m \u001B[38;5;28mself\u001B[39m\u001B[38;5;241m.\u001B[39m_state\u001B[38;5;241m.\u001B[39mdb \u001B[38;5;241m=\u001B[39m using\n",
      "File \u001B[1;32m~\\PycharmProjects\\backend_01\\venv\\lib\\site-packages\\django\\db\\models\\base.py:1020\u001B[0m, in \u001B[0;36mModel._save_table\u001B[1;34m(self, raw, cls, force_insert, force_update, using, update_fields)\u001B[0m\n\u001B[0;32m   1017\u001B[0m     fields \u001B[38;5;241m=\u001B[39m [f \u001B[38;5;28;01mfor\u001B[39;00m f \u001B[38;5;129;01min\u001B[39;00m fields \u001B[38;5;28;01mif\u001B[39;00m f \u001B[38;5;129;01mis\u001B[39;00m \u001B[38;5;129;01mnot\u001B[39;00m meta\u001B[38;5;241m.\u001B[39mauto_field]\n\u001B[0;32m   1019\u001B[0m returning_fields \u001B[38;5;241m=\u001B[39m meta\u001B[38;5;241m.\u001B[39mdb_returning_fields\n\u001B[1;32m-> 1020\u001B[0m results \u001B[38;5;241m=\u001B[39m \u001B[38;5;28;43mself\u001B[39;49m\u001B[38;5;241;43m.\u001B[39;49m\u001B[43m_do_insert\u001B[49m\u001B[43m(\u001B[49m\n\u001B[0;32m   1021\u001B[0m \u001B[43m    \u001B[49m\u001B[38;5;28;43mcls\u001B[39;49m\u001B[38;5;241;43m.\u001B[39;49m\u001B[43m_base_manager\u001B[49m\u001B[43m,\u001B[49m\u001B[43m \u001B[49m\u001B[43musing\u001B[49m\u001B[43m,\u001B[49m\u001B[43m \u001B[49m\u001B[43mfields\u001B[49m\u001B[43m,\u001B[49m\u001B[43m \u001B[49m\u001B[43mreturning_fields\u001B[49m\u001B[43m,\u001B[49m\u001B[43m \u001B[49m\u001B[43mraw\u001B[49m\n\u001B[0;32m   1022\u001B[0m \u001B[43m\u001B[49m\u001B[43m)\u001B[49m\n\u001B[0;32m   1023\u001B[0m \u001B[38;5;28;01mif\u001B[39;00m results:\n\u001B[0;32m   1024\u001B[0m     \u001B[38;5;28;01mfor\u001B[39;00m value, field \u001B[38;5;129;01min\u001B[39;00m \u001B[38;5;28mzip\u001B[39m(results[\u001B[38;5;241m0\u001B[39m], returning_fields):\n",
      "File \u001B[1;32m~\\PycharmProjects\\backend_01\\venv\\lib\\site-packages\\django\\db\\models\\base.py:1061\u001B[0m, in \u001B[0;36mModel._do_insert\u001B[1;34m(self, manager, using, fields, returning_fields, raw)\u001B[0m\n\u001B[0;32m   1056\u001B[0m \u001B[38;5;28;01mdef\u001B[39;00m \u001B[38;5;21m_do_insert\u001B[39m(\u001B[38;5;28mself\u001B[39m, manager, using, fields, returning_fields, raw):\n\u001B[0;32m   1057\u001B[0m \u001B[38;5;250m    \u001B[39m\u001B[38;5;124;03m\"\"\"\u001B[39;00m\n\u001B[0;32m   1058\u001B[0m \u001B[38;5;124;03m    Do an INSERT. If returning_fields is defined then this method should\u001B[39;00m\n\u001B[0;32m   1059\u001B[0m \u001B[38;5;124;03m    return the newly created data for the model.\u001B[39;00m\n\u001B[0;32m   1060\u001B[0m \u001B[38;5;124;03m    \"\"\"\u001B[39;00m\n\u001B[1;32m-> 1061\u001B[0m     \u001B[38;5;28;01mreturn\u001B[39;00m \u001B[43mmanager\u001B[49m\u001B[38;5;241;43m.\u001B[39;49m\u001B[43m_insert\u001B[49m\u001B[43m(\u001B[49m\n\u001B[0;32m   1062\u001B[0m \u001B[43m        \u001B[49m\u001B[43m[\u001B[49m\u001B[38;5;28;43mself\u001B[39;49m\u001B[43m]\u001B[49m\u001B[43m,\u001B[49m\n\u001B[0;32m   1063\u001B[0m \u001B[43m        \u001B[49m\u001B[43mfields\u001B[49m\u001B[38;5;241;43m=\u001B[39;49m\u001B[43mfields\u001B[49m\u001B[43m,\u001B[49m\n\u001B[0;32m   1064\u001B[0m \u001B[43m        \u001B[49m\u001B[43mreturning_fields\u001B[49m\u001B[38;5;241;43m=\u001B[39;49m\u001B[43mreturning_fields\u001B[49m\u001B[43m,\u001B[49m\n\u001B[0;32m   1065\u001B[0m \u001B[43m        \u001B[49m\u001B[43musing\u001B[49m\u001B[38;5;241;43m=\u001B[39;49m\u001B[43musing\u001B[49m\u001B[43m,\u001B[49m\n\u001B[0;32m   1066\u001B[0m \u001B[43m        \u001B[49m\u001B[43mraw\u001B[49m\u001B[38;5;241;43m=\u001B[39;49m\u001B[43mraw\u001B[49m\u001B[43m,\u001B[49m\n\u001B[0;32m   1067\u001B[0m \u001B[43m    \u001B[49m\u001B[43m)\u001B[49m\n",
      "File \u001B[1;32m~\\PycharmProjects\\backend_01\\venv\\lib\\site-packages\\django\\db\\models\\manager.py:87\u001B[0m, in \u001B[0;36mBaseManager._get_queryset_methods.<locals>.create_method.<locals>.manager_method\u001B[1;34m(self, *args, **kwargs)\u001B[0m\n\u001B[0;32m     85\u001B[0m \u001B[38;5;129m@wraps\u001B[39m(method)\n\u001B[0;32m     86\u001B[0m \u001B[38;5;28;01mdef\u001B[39;00m \u001B[38;5;21mmanager_method\u001B[39m(\u001B[38;5;28mself\u001B[39m, \u001B[38;5;241m*\u001B[39margs, \u001B[38;5;241m*\u001B[39m\u001B[38;5;241m*\u001B[39mkwargs):\n\u001B[1;32m---> 87\u001B[0m     \u001B[38;5;28;01mreturn\u001B[39;00m \u001B[38;5;28mgetattr\u001B[39m(\u001B[38;5;28mself\u001B[39m\u001B[38;5;241m.\u001B[39mget_queryset(), name)(\u001B[38;5;241m*\u001B[39margs, \u001B[38;5;241m*\u001B[39m\u001B[38;5;241m*\u001B[39mkwargs)\n",
      "File \u001B[1;32m~\\PycharmProjects\\backend_01\\venv\\lib\\site-packages\\django\\db\\models\\query.py:1805\u001B[0m, in \u001B[0;36mQuerySet._insert\u001B[1;34m(self, objs, fields, returning_fields, raw, using, on_conflict, update_fields, unique_fields)\u001B[0m\n\u001B[0;32m   1798\u001B[0m query \u001B[38;5;241m=\u001B[39m sql\u001B[38;5;241m.\u001B[39mInsertQuery(\n\u001B[0;32m   1799\u001B[0m     \u001B[38;5;28mself\u001B[39m\u001B[38;5;241m.\u001B[39mmodel,\n\u001B[0;32m   1800\u001B[0m     on_conflict\u001B[38;5;241m=\u001B[39mon_conflict,\n\u001B[0;32m   1801\u001B[0m     update_fields\u001B[38;5;241m=\u001B[39mupdate_fields,\n\u001B[0;32m   1802\u001B[0m     unique_fields\u001B[38;5;241m=\u001B[39munique_fields,\n\u001B[0;32m   1803\u001B[0m )\n\u001B[0;32m   1804\u001B[0m query\u001B[38;5;241m.\u001B[39minsert_values(fields, objs, raw\u001B[38;5;241m=\u001B[39mraw)\n\u001B[1;32m-> 1805\u001B[0m \u001B[38;5;28;01mreturn\u001B[39;00m \u001B[43mquery\u001B[49m\u001B[38;5;241;43m.\u001B[39;49m\u001B[43mget_compiler\u001B[49m\u001B[43m(\u001B[49m\u001B[43musing\u001B[49m\u001B[38;5;241;43m=\u001B[39;49m\u001B[43musing\u001B[49m\u001B[43m)\u001B[49m\u001B[38;5;241;43m.\u001B[39;49m\u001B[43mexecute_sql\u001B[49m\u001B[43m(\u001B[49m\u001B[43mreturning_fields\u001B[49m\u001B[43m)\u001B[49m\n",
      "File \u001B[1;32m~\\PycharmProjects\\backend_01\\venv\\lib\\site-packages\\django\\db\\models\\sql\\compiler.py:1822\u001B[0m, in \u001B[0;36mSQLInsertCompiler.execute_sql\u001B[1;34m(self, returning_fields)\u001B[0m\n\u001B[0;32m   1820\u001B[0m \u001B[38;5;28;01mwith\u001B[39;00m \u001B[38;5;28mself\u001B[39m\u001B[38;5;241m.\u001B[39mconnection\u001B[38;5;241m.\u001B[39mcursor() \u001B[38;5;28;01mas\u001B[39;00m cursor:\n\u001B[0;32m   1821\u001B[0m     \u001B[38;5;28;01mfor\u001B[39;00m sql, params \u001B[38;5;129;01min\u001B[39;00m \u001B[38;5;28mself\u001B[39m\u001B[38;5;241m.\u001B[39mas_sql():\n\u001B[1;32m-> 1822\u001B[0m         \u001B[43mcursor\u001B[49m\u001B[38;5;241;43m.\u001B[39;49m\u001B[43mexecute\u001B[49m\u001B[43m(\u001B[49m\u001B[43msql\u001B[49m\u001B[43m,\u001B[49m\u001B[43m \u001B[49m\u001B[43mparams\u001B[49m\u001B[43m)\u001B[49m\n\u001B[0;32m   1823\u001B[0m     \u001B[38;5;28;01mif\u001B[39;00m \u001B[38;5;129;01mnot\u001B[39;00m \u001B[38;5;28mself\u001B[39m\u001B[38;5;241m.\u001B[39mreturning_fields:\n\u001B[0;32m   1824\u001B[0m         \u001B[38;5;28;01mreturn\u001B[39;00m []\n",
      "File \u001B[1;32m~\\PycharmProjects\\backend_01\\venv\\lib\\site-packages\\django\\db\\backends\\utils.py:102\u001B[0m, in \u001B[0;36mCursorDebugWrapper.execute\u001B[1;34m(self, sql, params)\u001B[0m\n\u001B[0;32m    100\u001B[0m \u001B[38;5;28;01mdef\u001B[39;00m \u001B[38;5;21mexecute\u001B[39m(\u001B[38;5;28mself\u001B[39m, sql, params\u001B[38;5;241m=\u001B[39m\u001B[38;5;28;01mNone\u001B[39;00m):\n\u001B[0;32m    101\u001B[0m     \u001B[38;5;28;01mwith\u001B[39;00m \u001B[38;5;28mself\u001B[39m\u001B[38;5;241m.\u001B[39mdebug_sql(sql, params, use_last_executed_query\u001B[38;5;241m=\u001B[39m\u001B[38;5;28;01mTrue\u001B[39;00m):\n\u001B[1;32m--> 102\u001B[0m         \u001B[38;5;28;01mreturn\u001B[39;00m \u001B[38;5;28;43msuper\u001B[39;49m\u001B[43m(\u001B[49m\u001B[43m)\u001B[49m\u001B[38;5;241;43m.\u001B[39;49m\u001B[43mexecute\u001B[49m\u001B[43m(\u001B[49m\u001B[43msql\u001B[49m\u001B[43m,\u001B[49m\u001B[43m \u001B[49m\u001B[43mparams\u001B[49m\u001B[43m)\u001B[49m\n",
      "File \u001B[1;32m~\\PycharmProjects\\backend_01\\venv\\lib\\site-packages\\django\\db\\backends\\utils.py:67\u001B[0m, in \u001B[0;36mCursorWrapper.execute\u001B[1;34m(self, sql, params)\u001B[0m\n\u001B[0;32m     66\u001B[0m \u001B[38;5;28;01mdef\u001B[39;00m \u001B[38;5;21mexecute\u001B[39m(\u001B[38;5;28mself\u001B[39m, sql, params\u001B[38;5;241m=\u001B[39m\u001B[38;5;28;01mNone\u001B[39;00m):\n\u001B[1;32m---> 67\u001B[0m     \u001B[38;5;28;01mreturn\u001B[39;00m \u001B[38;5;28;43mself\u001B[39;49m\u001B[38;5;241;43m.\u001B[39;49m\u001B[43m_execute_with_wrappers\u001B[49m\u001B[43m(\u001B[49m\n\u001B[0;32m     68\u001B[0m \u001B[43m        \u001B[49m\u001B[43msql\u001B[49m\u001B[43m,\u001B[49m\u001B[43m \u001B[49m\u001B[43mparams\u001B[49m\u001B[43m,\u001B[49m\u001B[43m \u001B[49m\u001B[43mmany\u001B[49m\u001B[38;5;241;43m=\u001B[39;49m\u001B[38;5;28;43;01mFalse\u001B[39;49;00m\u001B[43m,\u001B[49m\u001B[43m \u001B[49m\u001B[43mexecutor\u001B[49m\u001B[38;5;241;43m=\u001B[39;49m\u001B[38;5;28;43mself\u001B[39;49m\u001B[38;5;241;43m.\u001B[39;49m\u001B[43m_execute\u001B[49m\n\u001B[0;32m     69\u001B[0m \u001B[43m    \u001B[49m\u001B[43m)\u001B[49m\n",
      "File \u001B[1;32m~\\PycharmProjects\\backend_01\\venv\\lib\\site-packages\\django\\db\\backends\\utils.py:80\u001B[0m, in \u001B[0;36mCursorWrapper._execute_with_wrappers\u001B[1;34m(self, sql, params, many, executor)\u001B[0m\n\u001B[0;32m     78\u001B[0m \u001B[38;5;28;01mfor\u001B[39;00m wrapper \u001B[38;5;129;01min\u001B[39;00m \u001B[38;5;28mreversed\u001B[39m(\u001B[38;5;28mself\u001B[39m\u001B[38;5;241m.\u001B[39mdb\u001B[38;5;241m.\u001B[39mexecute_wrappers):\n\u001B[0;32m     79\u001B[0m     executor \u001B[38;5;241m=\u001B[39m functools\u001B[38;5;241m.\u001B[39mpartial(wrapper, executor)\n\u001B[1;32m---> 80\u001B[0m \u001B[38;5;28;01mreturn\u001B[39;00m \u001B[43mexecutor\u001B[49m\u001B[43m(\u001B[49m\u001B[43msql\u001B[49m\u001B[43m,\u001B[49m\u001B[43m \u001B[49m\u001B[43mparams\u001B[49m\u001B[43m,\u001B[49m\u001B[43m \u001B[49m\u001B[43mmany\u001B[49m\u001B[43m,\u001B[49m\u001B[43m \u001B[49m\u001B[43mcontext\u001B[49m\u001B[43m)\u001B[49m\n",
      "File \u001B[1;32m~\\PycharmProjects\\backend_01\\venv\\lib\\site-packages\\django\\db\\backends\\utils.py:89\u001B[0m, in \u001B[0;36mCursorWrapper._execute\u001B[1;34m(self, sql, params, *ignored_wrapper_args)\u001B[0m\n\u001B[0;32m     87\u001B[0m     \u001B[38;5;28;01mreturn\u001B[39;00m \u001B[38;5;28mself\u001B[39m\u001B[38;5;241m.\u001B[39mcursor\u001B[38;5;241m.\u001B[39mexecute(sql)\n\u001B[0;32m     88\u001B[0m \u001B[38;5;28;01melse\u001B[39;00m:\n\u001B[1;32m---> 89\u001B[0m     \u001B[38;5;28;01mreturn\u001B[39;00m \u001B[38;5;28mself\u001B[39m\u001B[38;5;241m.\u001B[39mcursor\u001B[38;5;241m.\u001B[39mexecute(sql, params)\n",
      "File \u001B[1;32m~\\PycharmProjects\\backend_01\\venv\\lib\\site-packages\\django\\db\\utils.py:91\u001B[0m, in \u001B[0;36mDatabaseErrorWrapper.__exit__\u001B[1;34m(self, exc_type, exc_value, traceback)\u001B[0m\n\u001B[0;32m     89\u001B[0m \u001B[38;5;28;01mif\u001B[39;00m dj_exc_type \u001B[38;5;129;01mnot\u001B[39;00m \u001B[38;5;129;01min\u001B[39;00m (DataError, IntegrityError):\n\u001B[0;32m     90\u001B[0m     \u001B[38;5;28mself\u001B[39m\u001B[38;5;241m.\u001B[39mwrapper\u001B[38;5;241m.\u001B[39merrors_occurred \u001B[38;5;241m=\u001B[39m \u001B[38;5;28;01mTrue\u001B[39;00m\n\u001B[1;32m---> 91\u001B[0m \u001B[38;5;28;01mraise\u001B[39;00m dj_exc_value\u001B[38;5;241m.\u001B[39mwith_traceback(traceback) \u001B[38;5;28;01mfrom\u001B[39;00m \u001B[38;5;21;01mexc_value\u001B[39;00m\n",
      "File \u001B[1;32m~\\PycharmProjects\\backend_01\\venv\\lib\\site-packages\\django\\db\\backends\\utils.py:89\u001B[0m, in \u001B[0;36mCursorWrapper._execute\u001B[1;34m(self, sql, params, *ignored_wrapper_args)\u001B[0m\n\u001B[0;32m     87\u001B[0m     \u001B[38;5;28;01mreturn\u001B[39;00m \u001B[38;5;28mself\u001B[39m\u001B[38;5;241m.\u001B[39mcursor\u001B[38;5;241m.\u001B[39mexecute(sql)\n\u001B[0;32m     88\u001B[0m \u001B[38;5;28;01melse\u001B[39;00m:\n\u001B[1;32m---> 89\u001B[0m     \u001B[38;5;28;01mreturn\u001B[39;00m \u001B[38;5;28;43mself\u001B[39;49m\u001B[38;5;241;43m.\u001B[39;49m\u001B[43mcursor\u001B[49m\u001B[38;5;241;43m.\u001B[39;49m\u001B[43mexecute\u001B[49m\u001B[43m(\u001B[49m\u001B[43msql\u001B[49m\u001B[43m,\u001B[49m\u001B[43m \u001B[49m\u001B[43mparams\u001B[49m\u001B[43m)\u001B[49m\n",
      "File \u001B[1;32m~\\PycharmProjects\\backend_01\\venv\\lib\\site-packages\\django\\db\\backends\\sqlite3\\base.py:328\u001B[0m, in \u001B[0;36mSQLiteCursorWrapper.execute\u001B[1;34m(self, query, params)\u001B[0m\n\u001B[0;32m    326\u001B[0m param_names \u001B[38;5;241m=\u001B[39m \u001B[38;5;28mlist\u001B[39m(params) \u001B[38;5;28;01mif\u001B[39;00m \u001B[38;5;28misinstance\u001B[39m(params, Mapping) \u001B[38;5;28;01melse\u001B[39;00m \u001B[38;5;28;01mNone\u001B[39;00m\n\u001B[0;32m    327\u001B[0m query \u001B[38;5;241m=\u001B[39m \u001B[38;5;28mself\u001B[39m\u001B[38;5;241m.\u001B[39mconvert_query(query, param_names\u001B[38;5;241m=\u001B[39mparam_names)\n\u001B[1;32m--> 328\u001B[0m \u001B[38;5;28;01mreturn\u001B[39;00m \u001B[38;5;28;43msuper\u001B[39;49m\u001B[43m(\u001B[49m\u001B[43m)\u001B[49m\u001B[38;5;241;43m.\u001B[39;49m\u001B[43mexecute\u001B[49m\u001B[43m(\u001B[49m\u001B[43mquery\u001B[49m\u001B[43m,\u001B[49m\u001B[43m \u001B[49m\u001B[43mparams\u001B[49m\u001B[43m)\u001B[49m\n",
      "\u001B[1;31mIntegrityError\u001B[0m: NOT NULL constraint failed: relation_app_country.capital_id"
     ]
    }
   ],
   "source": [
    "# 2. Tworzymy wpis tabeli Country\n",
    "poland = Country.objects.create(name=\"Poland\")"
   ]
  },
  {
   "cell_type": "code",
   "execution_count": null,
   "id": "915d4444",
   "metadata": {},
   "outputs": [],
   "source": [
    "# Nie możemy! Dostaliśmy IntegrityError.\n",
    "# Dlaczego?\n",
    "# Ponieważ pole capitol (z referencją do modelu Capital) nie może być puste, a my próbując stworzyć \n",
    "# wpis nie podaliśmy wartości w tym polu.\n",
    "\n",
    "# Spróbujmy dopisać\n",
    "poland = Country.objects.create(name=\"Poland\", capital=\"Warsaw\")"
   ]
  },
  {
   "cell_type": "code",
   "execution_count": null,
   "id": "5f4b201b",
   "metadata": {},
   "outputs": [],
   "source": [
    "# Znów się nie udało. Tym razem wprowadziliśmy wartość, ale była ona typu string. \n",
    "# Python informuje nas, że wprowadzana w tym polu wartość powinna być instancją klasy \n",
    "# (modelu) Capital.\n",
    "\n",
    "# Ale my już mamy taką jedną instancję. Przypisaliśmy ją do zmiennej warsaw, tworząc \n",
    "# pierwszy wpis w tabeli Captial.\n",
    "warsaw"
   ]
  },
  {
   "cell_type": "code",
   "execution_count": null,
   "id": "5fea6abd",
   "metadata": {},
   "outputs": [],
   "source": [
    "# czyli wystarczy teraz ją wykorzystać. To pierwszy sposób tworzenia.\n",
    "\n",
    "# Metada I (instancja modelu)\n",
    "poland = Country.objects.create(name=\"Poland\", capital=warsaw)"
   ]
  },
  {
   "cell_type": "code",
   "execution_count": null,
   "id": "7a513dcb",
   "metadata": {},
   "outputs": [],
   "source": [
    "# Oczywiście możemy używać tu również dwóch pozostałych metod tworzenia wpisów, \n",
    "# które już poznaliśmy.\n",
    "\n",
    "# Tworzymy wpis dla Francji (metoda II)\n",
    "paris = Capital(name=\"Paris\")\n",
    "paris.save()\n",
    "france = Country(name=\"France\", capital=paris)\n",
    "france.save()\n",
    "\n",
    "# Tworzymy wpis dla Włoch (metoda III)\n",
    "rome = Capital()\n",
    "rome.name = \"Rome\"\n",
    "rome.save()\n",
    "italy = Country()\n",
    "italy.name = \"Italy\"\n",
    "italy.capital = rome\n",
    "italy.save()"
   ]
  },
  {
   "cell_type": "code",
   "execution_count": null,
   "id": "641f59a9",
   "metadata": {},
   "outputs": [],
   "source": [
    "# Ale mamy jeszcze inny sposób. \n",
    "\n",
    "# Popatrzmy na to co posiada tabelka Country\n",
    "print(dir(Country))"
   ]
  },
  {
   "cell_type": "code",
   "execution_count": null,
   "id": "31b25364",
   "metadata": {},
   "outputs": [],
   "source": [
    "# Widać, że Django poza polem capitol wygenerowało również dla modelu Country pole capitol_id \n",
    "# reprezentujące id wpisu tabeli Capitol. Możemy użyć tego pola do utworzenia relacji.\n",
    "\n",
    "# Metoda II (id instancji modelu)\n",
    "\n",
    "# 1. Tworzymy wpis w tabeli Capitol\n",
    "berlin = Capital.objects.create(name=\"Berlin\")\n",
    "berlin_id = berlin.id  # -> 2\n",
    "\n",
    "# 2. Tworzymy wpis w tabeli Country przekazując id instancji modelu Capitol\n",
    "germany = Country.objects.create(name=\"Germany\", capital_id=berlin_id)"
   ]
  },
  {
   "cell_type": "markdown",
   "id": "ad022d40",
   "metadata": {},
   "source": [
    "## ForeignKey"
   ]
  },
  {
   "cell_type": "markdown",
   "id": "cf42bd64",
   "metadata": {},
   "source": [
    "Relacja jeden do wielu jest najczęściej wykorzystywanym typem relacji. Występuje wtedy, kiedy wpis z jednej tabeli (tzw. tabeli rodzica) może być powiązany z wieloma wpisami z drugiej (tzw. tabeli dziecka), ale wpis z drugiej tabeli (tabeli dziecka) nie może być powiązany z wielom wpisami z pierwszej (tabeli rodzica). Innymi słowy rodzic może mieć wiele dzieci, ale dziecko może mieć tylko jednego rodzica. Przykładem takiej relacji może być tabela \"miasto\" oraz tabela \"państwo\". Gdańsk należy do Polski. Kraków należy do Polski. Mówiąc Gdańsk myślimy Polska (to strona relacja \"jeden\"). Podobnie mówiąc Kraków myślimy Polska. Ale już mówiąc Polska myślimy Gdańsk, Kraków, Wrocław, ... (to strona relacji \"wiele\"). \n",
    "\n",
    "Najprościej jest wyobrazić sobie relacje jeden-do-wielu jako strukturę hierarchiczną, czyli drzewo. Na górze mamy rodzica, a pod nim wiele dzieci. Tutaj Polska jest rodzicem, a Gdańsk, Kraków, Wrocław, ... dziećmi. To po której stronie umieścimy pole do przechowywania relacji zależy wyłącznie od nas. Zazwyczaj znacznie łatwiej myśli się o takiej relacji, kiedy pole umieści się po stronie dziecka (ponieważ dziecko ma tylko jednego rodzica). Czyli umieszczamy pole ForeignKey w modelu \"miasto\" i wpisy Gdańsk, Kraków, Wrocław posiadają referencje do wpisu Polska z modelu \"państwo\". \n",
    "\n",
    "Innym przykładem takiej relacji może być język programowania i framework. Jezyk programowania to np. Python. Framework to np. Django, Flask, Bottle. Rodzicem jest tu język programowania, dziećmi poszczególne frameworki (mówimy Python myślimy Django, Flask, Bottle... ale mówimy Django myślimy Python). Czyli pole z relacją najlepiej umieścić po stronie modelu Framework."
   ]
  },
  {
   "cell_type": "markdown",
   "id": "dcc919f9",
   "metadata": {},
   "source": [
    "**Definicje modeli**\n",
    "\n",
    "W modelach mamy dwie klasy: Language i Framework. Relacje ForignKey umieściliśmy po stronie modelu Framework (dziecko). Atrybut przechowujący relację nazwaliśmy language.\n",
    "\n",
    "<code>class Language(models.Model):\n",
    "    name = models.CharField(max_length=64)\n",
    "</code>\n",
    "<code>\n",
    "    def __str__(self):\n",
    "        return f\"{self.name}\"\n",
    "</code>\n",
    "\n",
    "<code>class Framework(models.Model):\n",
    "    name = models.CharField(max_length=64)\n",
    "    language = models.ForeignKey('Language', on_delete=models.CASCADE)\n",
    "</code>\n",
    "<code>\n",
    "    def __str__(self):\n",
    "        return f\"{self.name} ({self.language})\"\n",
    "</code>"
   ]
  },
  {
   "cell_type": "markdown",
   "id": "519c5966",
   "metadata": {},
   "source": [
    "### C z CRUD"
   ]
  },
  {
   "cell_type": "markdown",
   "id": "8b383c05",
   "metadata": {},
   "source": [
    "Operacje \"C\" niczym się nie różnią od tych dla pola OneToOneField. W ramach utrwalenia przypomnijmy, że mamy dwie metody."
   ]
  },
  {
   "cell_type": "code",
   "execution_count": 4,
   "id": "cbd0991f",
   "metadata": {
    "ExecuteTime": {
     "end_time": "2023-12-11T18:53:04.175942400Z",
     "start_time": "2023-12-11T18:53:04.162741400Z"
    }
   },
   "outputs": [],
   "source": [
    "from relation_app.models import Language, Framework"
   ]
  },
  {
   "cell_type": "code",
   "execution_count": 4,
   "id": "debe9fc3",
   "metadata": {},
   "outputs": [],
   "source": [
    "# Metad I (instancja modelu)\n",
    "\n",
    "python = Language.objects.create(name=\"python\")\n",
    "django = Framework.objects.create(name=\"django\", language=python)\n",
    "flask = Framework.objects.create(name=\"flask\", language=python)"
   ]
  },
  {
   "cell_type": "code",
   "execution_count": 5,
   "id": "53ae3a95",
   "metadata": {},
   "outputs": [],
   "source": [
    "# Metad II (id instancji modelu)\n",
    "\n",
    "java = Language.objects.create(name=\"java\")\n",
    "spring = Framework.objects.create(name=\"spring\", language_id=java.id)"
   ]
  },
  {
   "cell_type": "markdown",
   "id": "922694d8",
   "metadata": {},
   "source": [
    "### R z CRUD"
   ]
  },
  {
   "cell_type": "markdown",
   "id": "6b2ac7fd",
   "metadata": {},
   "source": [
    "Na początek wyświetlmy wszystkie framework-i."
   ]
  },
  {
   "cell_type": "code",
   "execution_count": 5,
   "id": "1c54d6f6",
   "metadata": {
    "ExecuteTime": {
     "end_time": "2023-12-11T18:53:09.754802300Z",
     "start_time": "2023-12-11T18:53:09.705452100Z"
    }
   },
   "outputs": [
    {
     "data": {
      "text/plain": "<QuerySet []>"
     },
     "execution_count": 5,
     "metadata": {},
     "output_type": "execute_result"
    }
   ],
   "source": [
    "Framework.objects.all()  # doróbmy __str__ modelom Framework i Language"
   ]
  },
  {
   "cell_type": "code",
   "execution_count": 7,
   "id": "15cd5858",
   "metadata": {
    "ExecuteTime": {
     "end_time": "2023-12-11T18:56:42.173454800Z",
     "start_time": "2023-12-11T18:56:42.138271Z"
    }
   },
   "outputs": [
    {
     "ename": "DoesNotExist",
     "evalue": "Language matching query does not exist.",
     "output_type": "error",
     "traceback": [
      "\u001B[1;31m---------------------------------------------------------------------------\u001B[0m",
      "\u001B[1;31mDoesNotExist\u001B[0m                              Traceback (most recent call last)",
      "Cell \u001B[1;32mIn[7], line 5\u001B[0m\n\u001B[0;32m      1\u001B[0m \u001B[38;5;66;03m# A frameworki tylko dla konkretnego języka?\u001B[39;00m\n\u001B[0;32m      2\u001B[0m \u001B[38;5;66;03m# Klasyczny filtr po polu language.\u001B[39;00m\n\u001B[0;32m      3\u001B[0m \n\u001B[0;32m      4\u001B[0m \u001B[38;5;66;03m# 1. Pobieramy obiekt, po którym będziemy wyszukiwać.\u001B[39;00m\n\u001B[1;32m----> 5\u001B[0m python \u001B[38;5;241m=\u001B[39m \u001B[43mLanguage\u001B[49m\u001B[38;5;241;43m.\u001B[39;49m\u001B[43mobjects\u001B[49m\u001B[38;5;241;43m.\u001B[39;49m\u001B[43mget\u001B[49m\u001B[43m(\u001B[49m\u001B[43mname\u001B[49m\u001B[38;5;241;43m=\u001B[39;49m\u001B[38;5;124;43m'\u001B[39;49m\u001B[38;5;124;43mpython\u001B[39;49m\u001B[38;5;124;43m'\u001B[39;49m\u001B[43m)\u001B[49m\n\u001B[0;32m      7\u001B[0m \u001B[38;5;66;03m# 2. Wyszukujemy po pobranym obiekcie.\u001B[39;00m\n\u001B[0;32m      8\u001B[0m frameworks \u001B[38;5;241m=\u001B[39m Framework\u001B[38;5;241m.\u001B[39mobjects\u001B[38;5;241m.\u001B[39mfilter(language\u001B[38;5;241m=\u001B[39mpython)\n",
      "File \u001B[1;32m~\\PycharmProjects\\backend_01\\venv\\lib\\site-packages\\django\\db\\models\\manager.py:87\u001B[0m, in \u001B[0;36mBaseManager._get_queryset_methods.<locals>.create_method.<locals>.manager_method\u001B[1;34m(self, *args, **kwargs)\u001B[0m\n\u001B[0;32m     85\u001B[0m \u001B[38;5;129m@wraps\u001B[39m(method)\n\u001B[0;32m     86\u001B[0m \u001B[38;5;28;01mdef\u001B[39;00m \u001B[38;5;21mmanager_method\u001B[39m(\u001B[38;5;28mself\u001B[39m, \u001B[38;5;241m*\u001B[39margs, \u001B[38;5;241m*\u001B[39m\u001B[38;5;241m*\u001B[39mkwargs):\n\u001B[1;32m---> 87\u001B[0m     \u001B[38;5;28;01mreturn\u001B[39;00m \u001B[38;5;28mgetattr\u001B[39m(\u001B[38;5;28mself\u001B[39m\u001B[38;5;241m.\u001B[39mget_queryset(), name)(\u001B[38;5;241m*\u001B[39margs, \u001B[38;5;241m*\u001B[39m\u001B[38;5;241m*\u001B[39mkwargs)\n",
      "File \u001B[1;32m~\\PycharmProjects\\backend_01\\venv\\lib\\site-packages\\django\\db\\models\\query.py:637\u001B[0m, in \u001B[0;36mQuerySet.get\u001B[1;34m(self, *args, **kwargs)\u001B[0m\n\u001B[0;32m    635\u001B[0m     \u001B[38;5;28;01mreturn\u001B[39;00m clone\u001B[38;5;241m.\u001B[39m_result_cache[\u001B[38;5;241m0\u001B[39m]\n\u001B[0;32m    636\u001B[0m \u001B[38;5;28;01mif\u001B[39;00m \u001B[38;5;129;01mnot\u001B[39;00m num:\n\u001B[1;32m--> 637\u001B[0m     \u001B[38;5;28;01mraise\u001B[39;00m \u001B[38;5;28mself\u001B[39m\u001B[38;5;241m.\u001B[39mmodel\u001B[38;5;241m.\u001B[39mDoesNotExist(\n\u001B[0;32m    638\u001B[0m         \u001B[38;5;124m\"\u001B[39m\u001B[38;5;132;01m%s\u001B[39;00m\u001B[38;5;124m matching query does not exist.\u001B[39m\u001B[38;5;124m\"\u001B[39m \u001B[38;5;241m%\u001B[39m \u001B[38;5;28mself\u001B[39m\u001B[38;5;241m.\u001B[39mmodel\u001B[38;5;241m.\u001B[39m_meta\u001B[38;5;241m.\u001B[39mobject_name\n\u001B[0;32m    639\u001B[0m     )\n\u001B[0;32m    640\u001B[0m \u001B[38;5;28;01mraise\u001B[39;00m \u001B[38;5;28mself\u001B[39m\u001B[38;5;241m.\u001B[39mmodel\u001B[38;5;241m.\u001B[39mMultipleObjectsReturned(\n\u001B[0;32m    641\u001B[0m     \u001B[38;5;124m\"\u001B[39m\u001B[38;5;124mget() returned more than one \u001B[39m\u001B[38;5;132;01m%s\u001B[39;00m\u001B[38;5;124m -- it returned \u001B[39m\u001B[38;5;132;01m%s\u001B[39;00m\u001B[38;5;124m!\u001B[39m\u001B[38;5;124m\"\u001B[39m\n\u001B[0;32m    642\u001B[0m     \u001B[38;5;241m%\u001B[39m (\n\u001B[1;32m   (...)\u001B[0m\n\u001B[0;32m    645\u001B[0m     )\n\u001B[0;32m    646\u001B[0m )\n",
      "\u001B[1;31mDoesNotExist\u001B[0m: Language matching query does not exist."
     ]
    }
   ],
   "source": [
    "# A frameworki tylko dla konkretnego języka?\n",
    "# Klasyczny filtr po polu language.\n",
    "\n",
    "# 1. Pobieramy obiekt, po którym będziemy wyszukiwać.\n",
    "python = Language.objects.get(name='python')\n",
    "\n",
    "# 2. Wyszukujemy po pobranym obiekcie.\n",
    "frameworks = Framework.objects.filter(language=python)\n",
    "print(frameworks)"
   ]
  },
  {
   "cell_type": "code",
   "execution_count": null,
   "id": "0f773499",
   "metadata": {},
   "outputs": [],
   "source": [
    "# wartością atrybutu reprezentującego relację jest obiekt\n",
    "django = Framework.objects.get(name='django')\n",
    "print(django.language)\n",
    "print(type(django.language))"
   ]
  },
  {
   "cell_type": "code",
   "execution_count": null,
   "id": "85a93fbc",
   "metadata": {},
   "outputs": [],
   "source": [
    "print(dir(Language))"
   ]
  },
  {
   "cell_type": "code",
   "execution_count": null,
   "id": "1e045ee7",
   "metadata": {},
   "outputs": [],
   "source": [
    "# Realizacja relacji odwrotnej w Django\n",
    "python = Language.objects.get(name='python')\n",
    "python.framework_set  # powiązany menadżer obiektu\n",
    "\n",
    "\n",
    "print(python.framework_set.all())\n",
    "print(python.framework_set.filter(name__startswith='dj'))"
   ]
  },
  {
   "cell_type": "code",
   "execution_count": null,
   "id": "384b14fd",
   "metadata": {},
   "outputs": [],
   "source": [
    "# Drugie zastosowanie lookupów - lookupy działają też na relacjach\n",
    "\n",
    "# Wyciągnij wszystkie frameworki pythona\n",
    "\n",
    "# metoda I\n",
    "python = Language.objects.get(name='python')\n",
    "frameworks = Framework.objects.filter(language=python)\n",
    "print(frameworks)\n",
    "\n",
    "# metoda II (z użyciem lookup)\n",
    "Framework.objects.filter(language__name=\"python\")"
   ]
  },
  {
   "cell_type": "markdown",
   "id": "8c5b9798",
   "metadata": {},
   "source": [
    "## ManyToMany"
   ]
  },
  {
   "cell_type": "markdown",
   "id": "a93f9b57",
   "metadata": {},
   "source": [
    "Ostatnia z omawianych relacji to relacja wiele-do-wielu. Dotyczy sytuacji kiedy wpisy z jednej tabeli mogą być powiązane z wielom wpisami z drugiej oraz wpisy z drugiej tabeli mogą być powiązane z wieloma wpisami z tabeli pierwszej. Przykładem takiej relacji może być tabela Aktor oraz tabela Film. Mówimy Al Pacino myślimy Scareface, Gorączka, Ojciec Chrzestny... Mówimy Ojciec Chrzestny myślimy Al Pacino, Robert DeNiro, Marlon Brando ... Relację możemy umieścić w dowolnej z powiązanych tabeli.\n",
    "Jest to najbardziej złożony typ relacji, ponieważ zgodnie z zasadami normalizacji realizacja relacji wiele-do-wielu wymaga wprowadzenia tabeli pośredniej. Na szczęście django ORM o tym wszystkim wie i my nie musimy przejmować się tworzeniem nowej tabeli. Django utworzy ją za nas, a naszym zadaniem jest tylko wskazać, że chcemy mieć relację wiele-do-wielu.\n",
    "\n",
    "**Definicje modeli**\n",
    "\n",
    "W modelach mamy dwie klasy: Actor i Movie. Relacje ManyToMany umieszczamy po stronie Movie (ale równie dobrze moglibyśmy umieścić po stronie Actor). Atrybut przechowujący relację nazwaliśmy actors (zwróć uwagę na to, że tym razem w nazwie pola użyliśmy liczby mnogiej).\n",
    "\n",
    "<code>class Actor(models.Model):\n",
    "    name = models.CharField(max_length=64)\n",
    "</code>\n",
    "<code>\n",
    "    def __str__(self):\n",
    "        return f\"{self.name}\"\n",
    "</code>\n",
    "\n",
    "<code>class Movie(models.Model):\n",
    "    title = models.CharField(max_length=128)\n",
    "    actors = models.ManyToManyField('Actor')\n",
    "</code>\n",
    "<code>\n",
    "    def __str__(self):\n",
    "        return f\"{self.title}\"\n",
    "</code>\n"
   ]
  },
  {
   "cell_type": "markdown",
   "id": "d717f558",
   "metadata": {},
   "source": [
    "Kiedy spojrzymy do bazy przekonamy się, że tabela actor nie mam kolumny movies. Zamiast tego w bazie możemy znaleźć tabelę o nazwie actor_movies (tabela pośrednia). Dodajmy kilka fimów i aktorów."
   ]
  },
  {
   "cell_type": "code",
   "execution_count": null,
   "id": "b0b2a060",
   "metadata": {},
   "outputs": [],
   "source": [
    "from relation_app.models import Actor, Movie\n",
    "\n",
    "movie_1 = Movie.objects.create(title='The Godfather')\n",
    "movie_2 = Movie.objects.create(title='The Heat')\n",
    "movie_3 = Movie.objects.create(title='The Irishman')\n",
    "movie_4 = Movie.objects.create(title='Taxi Driver')\n",
    "movie_5 = Movie.objects.create(title='Matrix')\n",
    "\n",
    "actor_1 = Actor.objects.create(name='Al Pacino')\n",
    "actor_2 = Actor.objects.create(name='Robert De Niro')\n",
    "actor_3 = Actor.objects.create(name='Keanu Reeves')"
   ]
  },
  {
   "cell_type": "markdown",
   "id": "00675b7e",
   "metadata": {},
   "source": [
    "Patrzymy do bazy i widzimy wpisy w tabeli movie i wpisy w tabeli actor, ale w tabeli movie_actors mamy 0 wpisów. W jaki sposób powiązać teraz wpisy z tabeli movie z wpisami z tabeli actor? "
   ]
  },
  {
   "cell_type": "code",
   "execution_count": null,
   "id": "cb85a099",
   "metadata": {},
   "outputs": [],
   "source": [
    "# Sposób I - metoda add\n",
    "movie_1.actors.add(actor_1)"
   ]
  },
  {
   "cell_type": "code",
   "execution_count": null,
   "id": "441003ca",
   "metadata": {},
   "outputs": [],
   "source": [
    "# Sposób II - metoda add (od drugiej strony relacji)\n",
    "actor_2.movie_set.add(movie_1)"
   ]
  },
  {
   "cell_type": "code",
   "execution_count": null,
   "id": "8a92b4a8",
   "metadata": {},
   "outputs": [],
   "source": [
    "# Sposób III - metoda create (metoda która jednocześnie tworzy wpis i powiązuje go)\n",
    "movie_1.actors.create(name=\"Marlon Brando\")"
   ]
  },
  {
   "cell_type": "code",
   "execution_count": null,
   "id": "edba4212",
   "metadata": {},
   "outputs": [],
   "source": [
    "# Sposób IV - metoda set (jeżeli chcemy utworzyć kilka powiązań)\n",
    "actors_list = [actor_1, actor_2]\n",
    "movie_2.actors.set(actors_list)"
   ]
  },
  {
   "cell_type": "code",
   "execution_count": null,
   "id": "bb34c618",
   "metadata": {},
   "outputs": [],
   "source": [
    "# Sposób V - metoda add też może służyc do dodania kilku powiązań jednocześnie, tylko trzeb użyć operatora rozpakowywania\n",
    "movie_3.actors.add(*actors_list)"
   ]
  },
  {
   "cell_type": "markdown",
   "id": "ccfb338b",
   "metadata": {},
   "source": [
    "Różnica pomiędzy sposobem IV i V polega na tym, że metoda set nadpisze wszystkie istniejące powiązania movie_2 podczas gdy metoda add do istniejących powiązań movie_3 doda nowe."
   ]
  },
  {
   "cell_type": "code",
   "execution_count": null,
   "id": "d7d5a341",
   "metadata": {},
   "outputs": [],
   "source": [
    "# Oczywiście to samo możemy robić wychodząc od drugiej strony relacji\n",
    "actor_3.movie_set.add(movie_5)"
   ]
  },
  {
   "cell_type": "markdown",
   "id": "a04a9761",
   "metadata": {},
   "source": [
    "Tym razem po obu stronach relacji mamych powiązane menadżery (ang. *related manager*)"
   ]
  },
  {
   "cell_type": "code",
   "execution_count": null,
   "id": "cd8a6a66",
   "metadata": {},
   "outputs": [],
   "source": [
    "# Wszystki poznane wcześniej reguły pozostają w mocy\n",
    "\n",
    "# Wszystkie filmy, w których zagrał Al Pacino - metoda I\n",
    "Movie.objects.filter(actors__name=\"Al Pacino\")"
   ]
  },
  {
   "cell_type": "code",
   "execution_count": null,
   "id": "75031a76",
   "metadata": {},
   "outputs": [],
   "source": [
    "# Wszystkie filmy w których zagrał Al Pacino - metoda II\n",
    "actor_1.movie_set.all()"
   ]
  },
  {
   "cell_type": "code",
   "execution_count": null,
   "id": "0a935c4b",
   "metadata": {},
   "outputs": [],
   "source": [
    "# Wszyscy aktorzy, którzy zagrali w 'The Godfather'\n",
    "movie_1.actors.all()"
   ]
  }
 ],
 "metadata": {
  "kernelspec": {
   "name": "python3",
   "language": "python",
   "display_name": "Python 3 (ipykernel)"
  },
  "language_info": {
   "codemirror_mode": {
    "name": "ipython",
    "version": 3
   },
   "file_extension": ".py",
   "mimetype": "text/x-python",
   "name": "python",
   "nbconvert_exporter": "python",
   "pygments_lexer": "ipython3",
   "version": "3.11.1"
  }
 },
 "nbformat": 4,
 "nbformat_minor": 5
}
